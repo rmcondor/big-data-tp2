{
 "cells": [
  {
   "cell_type": "markdown",
   "metadata": {},
   "source": [
    "# Big Data - TP #2\n",
    "\n",
    "El objetivo de este TP es hacer una limpieza y análisis de la EPH. Asimismo, predecir si una persona es o no pobre\n",
    "utilizando datos distintos al ingreso usando las metodologías vistas en clase."
   ]
  },
  {
   "cell_type": "code",
   "execution_count": 67,
   "metadata": {},
   "outputs": [],
   "source": [
    "import pandas as pd\n",
    "import os\n",
    "import matplotlib.pyplot as plt\n",
    "import seaborn as sns\n",
    "import numpy as np\n",
    "\n",
    "import statsmodels.api as sm     \n",
    "\n",
    "from sklearn import datasets\n",
    "from sklearn.linear_model import LogisticRegression\n",
    "from sklearn.model_selection import train_test_split\n",
    "from sklearn.metrics import confusion_matrix\n",
    "from sklearn.metrics import accuracy_score, recall_score \n",
    "from sklearn.metrics import roc_curve\n",
    "from sklearn.metrics import roc_auc_score\n",
    "from sklearn.metrics import RocCurveDisplay\n",
    "from sklearn.metrics import plot_roc_curve\n",
    "from sklearn.discriminant_analysis import LinearDiscriminantAnalysis\n",
    "from sklearn.neighbors import KNeighborsClassifier\n",
    "from sklearn.impute import SimpleImputer"
   ]
  },
  {
   "cell_type": "markdown",
   "metadata": {},
   "source": [
    "## Parte I: Analizando la base"
   ]
  },
  {
   "cell_type": "code",
   "execution_count": 2,
   "metadata": {
    "scrolled": true
   },
   "outputs": [
    {
     "data": {
      "text/html": [
       "<div>\n",
       "<style scoped>\n",
       "    .dataframe tbody tr th:only-of-type {\n",
       "        vertical-align: middle;\n",
       "    }\n",
       "\n",
       "    .dataframe tbody tr th {\n",
       "        vertical-align: top;\n",
       "    }\n",
       "\n",
       "    .dataframe thead th {\n",
       "        text-align: right;\n",
       "    }\n",
       "</style>\n",
       "<table border=\"1\" class=\"dataframe\">\n",
       "  <thead>\n",
       "    <tr style=\"text-align: right;\">\n",
       "      <th></th>\n",
       "      <th>CODUSU</th>\n",
       "      <th>ANO4</th>\n",
       "      <th>TRIMESTRE</th>\n",
       "      <th>NRO_HOGAR</th>\n",
       "      <th>COMPONENTE</th>\n",
       "      <th>H15</th>\n",
       "      <th>REGION</th>\n",
       "      <th>MAS_500</th>\n",
       "      <th>AGLOMERADO</th>\n",
       "      <th>PONDERA</th>\n",
       "      <th>...</th>\n",
       "      <th>PDECIFR</th>\n",
       "      <th>ADECIFR</th>\n",
       "      <th>IPCF</th>\n",
       "      <th>DECCFR</th>\n",
       "      <th>IDECCFR</th>\n",
       "      <th>RDECCFR</th>\n",
       "      <th>GDECCFR</th>\n",
       "      <th>PDECCFR</th>\n",
       "      <th>ADECCFR</th>\n",
       "      <th>PONDIH</th>\n",
       "    </tr>\n",
       "  </thead>\n",
       "  <tbody>\n",
       "    <tr>\n",
       "      <th>0</th>\n",
       "      <td>TQRMNORVWHLMKOCDEOHCH00720228</td>\n",
       "      <td>2023</td>\n",
       "      <td>1</td>\n",
       "      <td>1</td>\n",
       "      <td>5</td>\n",
       "      <td>0</td>\n",
       "      <td>44</td>\n",
       "      <td>N</td>\n",
       "      <td>91</td>\n",
       "      <td>112</td>\n",
       "      <td>...</td>\n",
       "      <td>10.0</td>\n",
       "      <td>9</td>\n",
       "      <td>79700.0</td>\n",
       "      <td>6</td>\n",
       "      <td>6.0</td>\n",
       "      <td>5</td>\n",
       "      <td>NaN</td>\n",
       "      <td>7.0</td>\n",
       "      <td>5</td>\n",
       "      <td>133</td>\n",
       "    </tr>\n",
       "    <tr>\n",
       "      <th>1</th>\n",
       "      <td>TQRMNOPSTHKMKPCDEOHCH00781447</td>\n",
       "      <td>2023</td>\n",
       "      <td>1</td>\n",
       "      <td>1</td>\n",
       "      <td>1</td>\n",
       "      <td>1</td>\n",
       "      <td>44</td>\n",
       "      <td>N</td>\n",
       "      <td>91</td>\n",
       "      <td>190</td>\n",
       "      <td>...</td>\n",
       "      <td>6.0</td>\n",
       "      <td>5</td>\n",
       "      <td>180000.0</td>\n",
       "      <td>9</td>\n",
       "      <td>10.0</td>\n",
       "      <td>9</td>\n",
       "      <td>NaN</td>\n",
       "      <td>10.0</td>\n",
       "      <td>9</td>\n",
       "      <td>200</td>\n",
       "    </tr>\n",
       "    <tr>\n",
       "      <th>2</th>\n",
       "      <td>TQRMNOQSXHMOKRCDEOHCH00803177</td>\n",
       "      <td>2023</td>\n",
       "      <td>1</td>\n",
       "      <td>1</td>\n",
       "      <td>1</td>\n",
       "      <td>1</td>\n",
       "      <td>44</td>\n",
       "      <td>N</td>\n",
       "      <td>91</td>\n",
       "      <td>134</td>\n",
       "      <td>...</td>\n",
       "      <td>8.0</td>\n",
       "      <td>8</td>\n",
       "      <td>145000.0</td>\n",
       "      <td>9</td>\n",
       "      <td>9.0</td>\n",
       "      <td>8</td>\n",
       "      <td>NaN</td>\n",
       "      <td>9.0</td>\n",
       "      <td>8</td>\n",
       "      <td>140</td>\n",
       "    </tr>\n",
       "    <tr>\n",
       "      <th>3</th>\n",
       "      <td>TQRMNOQSXHMOKRCDEOHCH00803177</td>\n",
       "      <td>2023</td>\n",
       "      <td>1</td>\n",
       "      <td>1</td>\n",
       "      <td>2</td>\n",
       "      <td>1</td>\n",
       "      <td>44</td>\n",
       "      <td>N</td>\n",
       "      <td>91</td>\n",
       "      <td>134</td>\n",
       "      <td>...</td>\n",
       "      <td>8.0</td>\n",
       "      <td>8</td>\n",
       "      <td>145000.0</td>\n",
       "      <td>9</td>\n",
       "      <td>9.0</td>\n",
       "      <td>8</td>\n",
       "      <td>NaN</td>\n",
       "      <td>9.0</td>\n",
       "      <td>8</td>\n",
       "      <td>140</td>\n",
       "    </tr>\n",
       "    <tr>\n",
       "      <th>4</th>\n",
       "      <td>TQRMNOQYTHMNKSCDEOHCH00803178</td>\n",
       "      <td>2023</td>\n",
       "      <td>1</td>\n",
       "      <td>1</td>\n",
       "      <td>1</td>\n",
       "      <td>1</td>\n",
       "      <td>44</td>\n",
       "      <td>N</td>\n",
       "      <td>91</td>\n",
       "      <td>120</td>\n",
       "      <td>...</td>\n",
       "      <td>12.0</td>\n",
       "      <td>12</td>\n",
       "      <td>0.0</td>\n",
       "      <td>12</td>\n",
       "      <td>12.0</td>\n",
       "      <td>12</td>\n",
       "      <td>NaN</td>\n",
       "      <td>12.0</td>\n",
       "      <td>12</td>\n",
       "      <td>0</td>\n",
       "    </tr>\n",
       "  </tbody>\n",
       "</table>\n",
       "<p>5 rows × 177 columns</p>\n",
       "</div>"
      ],
      "text/plain": [
       "                          CODUSU  ANO4  TRIMESTRE  NRO_HOGAR  COMPONENTE  H15  \\\n",
       "0  TQRMNORVWHLMKOCDEOHCH00720228  2023          1          1           5    0   \n",
       "1  TQRMNOPSTHKMKPCDEOHCH00781447  2023          1          1           1    1   \n",
       "2  TQRMNOQSXHMOKRCDEOHCH00803177  2023          1          1           1    1   \n",
       "3  TQRMNOQSXHMOKRCDEOHCH00803177  2023          1          1           2    1   \n",
       "4  TQRMNOQYTHMNKSCDEOHCH00803178  2023          1          1           1    1   \n",
       "\n",
       "   REGION MAS_500  AGLOMERADO  PONDERA  ...  PDECIFR  ADECIFR      IPCF  \\\n",
       "0      44       N          91      112  ...     10.0        9   79700.0   \n",
       "1      44       N          91      190  ...      6.0        5  180000.0   \n",
       "2      44       N          91      134  ...      8.0        8  145000.0   \n",
       "3      44       N          91      134  ...      8.0        8  145000.0   \n",
       "4      44       N          91      120  ...     12.0       12       0.0   \n",
       "\n",
       "   DECCFR  IDECCFR  RDECCFR  GDECCFR  PDECCFR  ADECCFR  PONDIH  \n",
       "0       6      6.0        5      NaN      7.0        5     133  \n",
       "1       9     10.0        9      NaN     10.0        9     200  \n",
       "2       9      9.0        8      NaN      9.0        8     140  \n",
       "3       9      9.0        8      NaN      9.0        8     140  \n",
       "4      12     12.0       12      NaN     12.0       12       0  \n",
       "\n",
       "[5 rows x 177 columns]"
      ]
     },
     "execution_count": 2,
     "metadata": {},
     "output_type": "execute_result"
    }
   ],
   "source": [
    "# Abrimos el archivo y vemos las primeras cinco filas\n",
    "eph_indiv = pd.read_excel(\"../datasets/usu_individual_T123.xlsx\")\n",
    "eph_indiv.head(5)"
   ]
  },
  {
   "cell_type": "code",
   "execution_count": 3,
   "metadata": {},
   "outputs": [
    {
     "name": "stdout",
     "output_type": "stream",
     "text": [
      "<class 'pandas.core.frame.DataFrame'>\n",
      "RangeIndex: 48638 entries, 0 to 48637\n",
      "Data columns (total 177 columns):\n",
      " #    Column      Dtype  \n",
      "---   ------      -----  \n",
      " 0    CODUSU      object \n",
      " 1    ANO4        int64  \n",
      " 2    TRIMESTRE   int64  \n",
      " 3    NRO_HOGAR   int64  \n",
      " 4    COMPONENTE  int64  \n",
      " 5    H15         int64  \n",
      " 6    REGION      int64  \n",
      " 7    MAS_500     object \n",
      " 8    AGLOMERADO  int64  \n",
      " 9    PONDERA     int64  \n",
      " 10   CH03        int64  \n",
      " 11   CH04        int64  \n",
      " 12   CH05        object \n",
      " 13   CH06        int64  \n",
      " 14   CH07        int64  \n",
      " 15   CH08        float64\n",
      " 16   CH09        int64  \n",
      " 17   CH10        int64  \n",
      " 18   CH11        int64  \n",
      " 19   CH12        int64  \n",
      " 20   CH13        int64  \n",
      " 21   CH14        float64\n",
      " 22   CH15        int64  \n",
      " 23   CH15_COD    float64\n",
      " 24   CH16        int64  \n",
      " 25   CH16_COD    float64\n",
      " 26   NIVEL_ED    int64  \n",
      " 27   ESTADO      int64  \n",
      " 28   CAT_OCUP    int64  \n",
      " 29   CAT_INAC    int64  \n",
      " 30   IMPUTA      float64\n",
      " 31   PP02C1      int64  \n",
      " 32   PP02C2      int64  \n",
      " 33   PP02C3      int64  \n",
      " 34   PP02C4      int64  \n",
      " 35   PP02C5      int64  \n",
      " 36   PP02C6      int64  \n",
      " 37   PP02C7      int64  \n",
      " 38   PP02C8      int64  \n",
      " 39   PP02E       int64  \n",
      " 40   PP02H       int64  \n",
      " 41   PP02I       int64  \n",
      " 42   PP03C       float64\n",
      " 43   PP03D       float64\n",
      " 44   PP3E_TOT    float64\n",
      " 45   PP3F_TOT    float64\n",
      " 46   PP03G       float64\n",
      " 47   PP03H       float64\n",
      " 48   PP03I       float64\n",
      " 49   PP03J       float64\n",
      " 50   INTENSI     float64\n",
      " 51   PP04A       float64\n",
      " 52   PP04B_COD   float64\n",
      " 53   PP04B1      float64\n",
      " 54   PP04B2      float64\n",
      " 55   PP04B3_MES  float64\n",
      " 56   PP04B3_ANO  float64\n",
      " 57   PP04B3_DIA  float64\n",
      " 58   PP04C       float64\n",
      " 59   PP04C99     float64\n",
      " 60   PP04D_COD   float64\n",
      " 61   PP04G       float64\n",
      " 62   PP05B2_MES  float64\n",
      " 63   PP05B2_ANO  float64\n",
      " 64   PP05B2_DIA  float64\n",
      " 65   PP05C_1     float64\n",
      " 66   PP05C_2     float64\n",
      " 67   PP05C_3     float64\n",
      " 68   PP05E       float64\n",
      " 69   PP05F       float64\n",
      " 70   PP05H       float64\n",
      " 71   PP06A       float64\n",
      " 72   PP06C       float64\n",
      " 73   PP06D       float64\n",
      " 74   PP06E       float64\n",
      " 75   PP06H       float64\n",
      " 76   PP07A       float64\n",
      " 77   PP07C       float64\n",
      " 78   PP07D       float64\n",
      " 79   PP07E       float64\n",
      " 80   PP07F1      float64\n",
      " 81   PP07F2      float64\n",
      " 82   PP07F3      float64\n",
      " 83   PP07F4      float64\n",
      " 84   PP07F5      float64\n",
      " 85   PP07G1      float64\n",
      " 86   PP07G2      float64\n",
      " 87   PP07G3      float64\n",
      " 88   PP07G4      float64\n",
      " 89   PP07G_59    float64\n",
      " 90   PP07H       float64\n",
      " 91   PP07I       float64\n",
      " 92   PP07J       float64\n",
      " 93   PP07K       float64\n",
      " 94   PP08D1      float64\n",
      " 95   PP08D4      float64\n",
      " 96   PP08F1      float64\n",
      " 97   PP08F2      float64\n",
      " 98   PP08J1      float64\n",
      " 99   PP08J2      float64\n",
      " 100  PP08J3      float64\n",
      " 101  PP09A       float64\n",
      " 102  PP09A_ESP   object \n",
      " 103  PP09B       float64\n",
      " 104  PP09C       float64\n",
      " 105  PP09C_ESP   object \n",
      " 106  PP10A       float64\n",
      " 107  PP10C       float64\n",
      " 108  PP10D       float64\n",
      " 109  PP10E       float64\n",
      " 110  PP11A       float64\n",
      " 111  PP11B_COD   float64\n",
      " 112  PP11B1      float64\n",
      " 113  PP11B2_MES  float64\n",
      " 114  PP11B2_ANO  float64\n",
      " 115  PP11B2_DIA  float64\n",
      " 116  PP11C       float64\n",
      " 117  PP11C99     float64\n",
      " 118  PP11D_COD   float64\n",
      " 119  PP11G_ANO   float64\n",
      " 120  PP11G_MES   float64\n",
      " 121  PP11G_DIA   float64\n",
      " 122  PP11L       float64\n",
      " 123  PP11L1      float64\n",
      " 124  PP11M       float64\n",
      " 125  PP11N       float64\n",
      " 126  PP11O       float64\n",
      " 127  PP11P       float64\n",
      " 128  PP11Q       float64\n",
      " 129  PP11R       float64\n",
      " 130  PP11S       float64\n",
      " 131  PP11T       float64\n",
      " 132  P21         int64  \n",
      " 133  DECOCUR     int64  \n",
      " 134  IDECOCUR    float64\n",
      " 135  RDECOCUR    int64  \n",
      " 136  GDECOCUR    float64\n",
      " 137  PDECOCUR    float64\n",
      " 138  ADECOCUR    int64  \n",
      " 139  PONDIIO     int64  \n",
      " 140  TOT_P12     int64  \n",
      " 141  P47T        float64\n",
      " 142  DECINDR     int64  \n",
      " 143  IDECINDR    float64\n",
      " 144  RDECINDR    int64  \n",
      " 145  GDECINDR    float64\n",
      " 146  PDECINDR    float64\n",
      " 147  ADECINDR    int64  \n",
      " 148  PONDII      int64  \n",
      " 149  V2_M        int64  \n",
      " 150  V3_M        int64  \n",
      " 151  V4_M        int64  \n",
      " 152  V5_M        int64  \n",
      " 153  V8_M        int64  \n",
      " 154  V9_M        int64  \n",
      " 155  V10_M       int64  \n",
      " 156  V11_M       int64  \n",
      " 157  V12_M       int64  \n",
      " 158  V18_M       int64  \n",
      " 159  V19_AM      int64  \n",
      " 160  V21_M       int64  \n",
      " 161  T_VI        int64  \n",
      " 162  ITF         int64  \n",
      " 163  DECIFR      int64  \n",
      " 164  IDECIFR     float64\n",
      " 165  RDECIFR     int64  \n",
      " 166  GDECIFR     float64\n",
      " 167  PDECIFR     float64\n",
      " 168  ADECIFR     int64  \n",
      " 169  IPCF        float64\n",
      " 170  DECCFR      int64  \n",
      " 171  IDECCFR     float64\n",
      " 172  RDECCFR     int64  \n",
      " 173  GDECCFR     float64\n",
      " 174  PDECCFR     float64\n",
      " 175  ADECCFR     int64  \n",
      " 176  PONDIH      int64  \n",
      "dtypes: float64(107), int64(65), object(5)\n",
      "memory usage: 65.7+ MB\n"
     ]
    }
   ],
   "source": [
    "#Resumen de la base de datos\n",
    "eph_indiv.info(verbose = True)"
   ]
  },
  {
   "cell_type": "code",
   "execution_count": 4,
   "metadata": {},
   "outputs": [
    {
     "name": "stdout",
     "output_type": "stream",
     "text": [
      "[33 32]\n"
     ]
    }
   ],
   "source": [
    "#2a) Eliminen todas las observaciones que no corresponden a los aglomerados de CABA o Gran Buenos Aires.\n",
    "\n",
    "#El siguiente código toma el índice de aquellas observaciones para las que el aglomerado no es ni CABA (32) ni Gran Buenos Aires (33), y elimina las filas que cumplen esa condición. \n",
    "\n",
    "eph_indiv= eph_indiv.drop(eph_indiv[(eph_indiv[\"AGLOMERADO\"] != 32) & (eph_indiv[\"AGLOMERADO\"] != 33)].index)\n",
    "\n",
    "#Para comprobar que funcionó, presentamos los valores que toma la variable \"AGLOMERADO\":\n",
    "\n",
    "unique=eph_indiv[\"AGLOMERADO\"].unique() \n",
    "print(unique) #Vemos que ahora \"Aglomerado\" solo toma los valores 32 y 33"
   ]
  },
  {
   "cell_type": "code",
   "execution_count": null,
   "metadata": {},
   "outputs": [],
   "source": [
    "#2b) Si hay observaciones con valores que no tienen sentido, descartarlas"
   ]
  },
  {
   "cell_type": "code",
   "execution_count": 5,
   "metadata": {},
   "outputs": [
    {
     "name": "stdout",
     "output_type": "stream",
     "text": [
      "Mujer    51.93595\n",
      "Varón    48.06405\n",
      "Name: gender, dtype: float64\n"
     ]
    },
    {
     "data": {
      "image/png": "[encoded data removed]",
      "text/plain": [
       "<Figure size 1000x500 with 1 Axes>"
      ]
     },
     "metadata": {},
     "output_type": "display_data"
    }
   ],
   "source": [
    "#2c) Gráfico de barras mostrando la composición por sexo\n",
    "eph_indiv['gender'] = eph_indiv['CH04'].map({1: 'Varón', 2: 'Mujer'})\n",
    "gender_counts = eph_indiv['gender'].value_counts(normalize=True) * 100\n",
    "print(gender_counts) # Para conocer los porcentajes\n",
    "\n",
    "# Gráfico de barras\n",
    "barplot = plt.figure(figsize = (10, 5))\n",
    "ax = gender_counts.plot(kind='bar', color='skyblue')\n",
    "plt.title('Distribución')\n",
    "plt.ylabel('Porcentaje')\n",
    "\n",
    "# Add percentage labels on top of the bars\n",
    "for i, v in enumerate(gender_counts):\n",
    "    ax.text(i, v, f'{v:.1f}%', ha='center', va='bottom')\n",
    "\n",
    "plt.show()"
   ]
  },
  {
   "cell_type": "code",
   "execution_count": 14,
   "metadata": {},
   "outputs": [
    {
     "name": "stdout",
     "output_type": "stream",
     "text": [
      "              CH04      CH07      CH08  NIVEL_ED    ESTADO  CAT_INAC      IPCF\n",
      "CH04      1.000000  0.000154 -0.018987  0.047994  0.109765  0.077415 -0.024086\n",
      "CH07      0.000154  1.000000  0.072143 -0.069917  0.420460  0.412902 -0.043558\n",
      "CH08     -0.018987  0.072143  1.000000  0.002025  0.021865  0.090299 -0.070840\n",
      "NIVEL_ED  0.047994 -0.069917  0.002025  1.000000 -0.183746 -0.022259  0.148724\n",
      "ESTADO    0.109765  0.420460  0.021865 -0.183746  1.000000  0.825380 -0.107224\n",
      "CAT_INAC  0.077415  0.412902  0.090299 -0.022259  0.825380  1.000000 -0.110293\n",
      "IPCF     -0.024086 -0.043558 -0.070840  0.148724 -0.107224 -0.110293  1.000000\n"
     ]
    },
    {
     "data": {
      "image/png": "[encoded data removed]",
      "text/plain": [
       "<Figure size 1000x800 with 2 Axes>"
      ]
     },
     "metadata": {},
     "output_type": "display_data"
    }
   ],
   "source": [
    "#2d) Matriz de correlación con las siguientes variables\n",
    "covars = eph_indiv[['CH04', 'CH07', 'CH08', 'NIVEL_ED', 'ESTADO', 'CAT_INAC', 'IPCF']] # Variables\n",
    "corr_matrix = covars.corr()\n",
    "print(corr_matrix) #Matriz de correlación\n",
    "\n",
    "# Ahora hacemos un gráfico usando la librería 'seaborn'\n",
    "plt.figure(figsize=(10, 8))\n",
    "sns.heatmap(corr_matrix, annot=True, cmap= \"coolwarm\", fmt=\".1f\", linewidths=0.5)\n",
    "plt.title(\"Matriz de Correlación\")\n",
    "plt.show()"
   ]
  },
  {
   "cell_type": "code",
   "execution_count": 32,
   "metadata": {},
   "outputs": [
    {
     "name": "stdout",
     "output_type": "stream",
     "text": [
      "Número de desocupados en la muestra:286\n",
      "Número de inactivos en la muestra:2837\n",
      "La media de IPCF para los ocupados es:59579.44291512915\n",
      "La media de IPCF para los desocupados es:25536.022202797205\n",
      "La media de IPCF para los inactivos es:40067.99605216778\n"
     ]
    }
   ],
   "source": [
    "#2e) Calcular a los desocupados, inactivos y la media del Ingreso Per Capita Familiar segun estado (ocupado, desocupado, inactivo)\n",
    "\n",
    "desocupados=(eph_indiv[\"ESTADO\"] == 2).sum()\n",
    "print(\"Número de desocupados en la muestra:\" + str(desocupados))\n",
    "inactivos = (eph_indiv[\"ESTADO\"] == 3).sum()\n",
    "print(\"Número de inactivos en la muestra:\" + str(inactivos))\n",
    "\n",
    "#Para calcular el ingreso per capita para cada grupo, usamos la función loc, ya que necesitamos seleccionar una columna en particular para aquellas filas que cumplen cierta condición.\n",
    "\n",
    "ingreso_ipcf_ocupados= eph_indiv.loc[eph_indiv[\"ESTADO\"] == 1, \"IPCF\"].mean()\n",
    "print(\"La media del IPCF para los ocupados es:\" + str(ingreso_ipcf_ocupados))\n",
    "\n",
    "ingreso_ipcf_desocupados= eph_indiv.loc[eph_indiv[\"ESTADO\"] == 2, \"IPCF\"].mean()\n",
    "print(\"La media del IPCF para los desocupados es:\" + str(ingreso_ipcf_desocupados))\n",
    "\n",
    "ingreso_ipcf_inactivos= eph_indiv.loc[eph_indiv[\"ESTADO\"] == 3, \"IPCF\"].mean()\n",
    "print(\"La media del IPCF para los inactivos es:\" + str(ingreso_ipcf_inactivos))\n"
   ]
  },
  {
   "cell_type": "markdown",
   "metadata": {},
   "source": [
    "## Parte II: Clasificación"
   ]
  },
  {
   "cell_type": "markdown",
   "metadata": {},
   "source": [
    "El objetivo de esta parte del trabajo es intentar predecir la condición de pobreza utilizando datos distintos al ingreso, dado que muchos hogares son reacios a responder\n",
    "cuánto ganan."
   ]
  },
  {
   "cell_type": "markdown",
   "metadata": {},
   "source": [
    "### Inciso 1: Preparación de la base de datos"
   ]
  },
  {
   "cell_type": "markdown",
   "metadata": {},
   "source": [
    "<span style=\"color:red\">ADVERTENCIA</span>: el código del inciso 1 está \"mal\". Necesito tener las dos bases de datos que se crean en la parte I. Trabajé como si tuviera la base de datos. Luego modifico el código."
   ]
  },
  {
   "cell_type": "code",
   "execution_count": 42,
   "metadata": {},
   "outputs": [
    {
     "name": "stdout",
     "output_type": "stream",
     "text": [
      "Nombre de las variables:\n",
      "CODUSU\n",
      "ANO4\n",
      "TRIMESTRE\n",
      "NRO_HOGAR\n",
      "COMPONENTE\n",
      "H15\n",
      "REGION\n",
      "MAS_500\n",
      "AGLOMERADO\n",
      "PONDERA\n",
      "CH03\n",
      "CH04\n",
      "CH05\n",
      "CH06\n",
      "CH07\n",
      "CH08\n",
      "CH09\n",
      "CH10\n",
      "CH11\n",
      "CH12\n",
      "CH13\n",
      "CH14\n",
      "CH15\n",
      "CH15_COD\n",
      "CH16\n",
      "CH16_COD\n",
      "NIVEL_ED\n",
      "ESTADO\n",
      "CAT_OCUP\n",
      "CAT_INAC\n",
      "IMPUTA\n",
      "PP02C1\n",
      "PP02C2\n",
      "PP02C3\n",
      "PP02C4\n",
      "PP02C5\n",
      "PP02C6\n",
      "PP02C7\n",
      "PP02C8\n",
      "PP02E\n",
      "PP02H\n",
      "PP02I\n",
      "PP03C\n",
      "PP03D\n",
      "PP3E_TOT\n",
      "PP3F_TOT\n",
      "PP03G\n",
      "PP03H\n",
      "PP03I\n",
      "PP03J\n",
      "INTENSI\n",
      "PP04A\n",
      "PP04B_COD\n",
      "PP04B1\n",
      "PP04B2\n",
      "PP04B3_MES\n",
      "PP04B3_ANO\n",
      "PP04B3_DIA\n",
      "PP04C\n",
      "PP04C99\n",
      "PP04D_COD\n",
      "PP04G\n",
      "PP05B2_MES\n",
      "PP05B2_ANO\n",
      "PP05B2_DIA\n",
      "PP05C_1\n",
      "PP05C_2\n",
      "PP05C_3\n",
      "PP05E\n",
      "PP05F\n",
      "PP05H\n",
      "PP06A\n",
      "PP06C\n",
      "PP06D\n",
      "PP06E\n",
      "PP06H\n",
      "PP07A\n",
      "PP07C\n",
      "PP07D\n",
      "PP07E\n",
      "PP07F1\n",
      "PP07F2\n",
      "PP07F3\n",
      "PP07F4\n",
      "PP07F5\n",
      "PP07G1\n",
      "PP07G2\n",
      "PP07G3\n",
      "PP07G4\n",
      "PP07G_59\n",
      "PP07H\n",
      "PP07I\n",
      "PP07J\n",
      "PP07K\n",
      "PP08D1\n",
      "PP08D4\n",
      "PP08F1\n",
      "PP08F2\n",
      "PP08J1\n",
      "PP08J2\n",
      "PP08J3\n",
      "PP09A\n",
      "PP09A_ESP\n",
      "PP09B\n",
      "PP09C\n",
      "PP09C_ESP\n",
      "PP10A\n",
      "PP10C\n",
      "PP10D\n",
      "PP10E\n",
      "PP11A\n",
      "PP11B_COD\n",
      "PP11B1\n",
      "PP11B2_MES\n",
      "PP11B2_ANO\n",
      "PP11B2_DIA\n",
      "PP11C\n",
      "PP11C99\n",
      "PP11D_COD\n",
      "PP11G_ANO\n",
      "PP11G_MES\n",
      "PP11G_DIA\n",
      "PP11L\n",
      "PP11L1\n",
      "PP11M\n",
      "PP11N\n",
      "PP11O\n",
      "PP11P\n",
      "PP11Q\n",
      "PP11R\n",
      "PP11S\n",
      "PP11T\n",
      "gender\n",
      "pobre\n"
     ]
    }
   ],
   "source": [
    "# Eliminamos de ambas bases todas las variables relacionadas a ingresos\n",
    "respondieron = eph_indiv[eph_indiv[\"IPCF\"] > 0].copy()\n",
    "respondieron[\"IPCF\"].describe() #Para corroborar. El valor mínimo es 6.25\n",
    "respondieron[\"pobre\"] = np.where(respondieron['IPCF'] < 57371.05, 1, 0) #MODIFICAR ESTO!\n",
    "\n",
    "# Todas las variables que borraremos: 6 primeras filas son categorías de ingresos\n",
    "dropvars = [\"P21\", \"DECOCUR\", \"IDECOCUR\", \"RDECOCUR\", \"GDECOCUR\", \"PDECOCUR\", \"ADECOCUR\", \"PONDIIO\", # Ocupación principal\n",
    "            \"TOT_P12\", #Otra ocupaciones\n",
    "            \"P47T\", \"DECINDR\", \"IDECINDR\", \"RDECINDR\", \"GDECINDR\", \"PDECINDR\", \"ADECINDR\", \"PONDII\", #Individual\n",
    "            \"V2_M\", \"V3_M\", \"V4_M\", \"V5_M\", \"V8_M\", \"V9_M\", \"V10_M\", \"V11_M\", \"V12_M\", \"V18_M\", \"V19_AM\", \"V21_M\", \"T_VI\", #No laborales\n",
    "            \"ITF\", \"DECIFR\", \"IDECIFR\", \"RDECIFR\", \"GDECIFR\", \"PDECIFR\", \"ADECIFR\", # Total Familiar\n",
    "            \"IPCF\", \"DECCFR\", \"IDECCFR\", \"RDECCFR\", \"GDECCFR\", \"PDECCFR\", \"ADECCFR\", \"PONDIH\" #Per cap familiar\n",
    "            # , adulto equiv,ad_equiv_hogar, ingreso_necesario # Otras variables\n",
    "            ]\n",
    "\n",
    "\n",
    "respondieron_new = respondieron.drop(columns=dropvars)\n",
    "\n",
    "# Verificamos:\n",
    "variable_names = respondieron_new.columns.tolist()\n",
    "print(\"Nombre de las variables:\")\n",
    "for var_name in variable_names:\n",
    "    print(var_name) #Todo OK!"
   ]
  },
  {
   "cell_type": "markdown",
   "metadata": {},
   "source": [
    "### Inciso 2: Muestra de entrenamiento y test"
   ]
  },
  {
   "cell_type": "markdown",
   "metadata": {},
   "source": [
    "<span style=\"color:red\">ADVERTENCIA</span>: Esta parta también está \"mal\". Lo que hice fue definiar la variable \"pobre\" de la manera más simple posible. En la parte I se debería definir de mejor manera esta variable (con metodología de adultos equivalentes)."
   ]
  },
  {
   "cell_type": "code",
   "execution_count": 44,
   "metadata": {},
   "outputs": [
    {
     "name": "stdout",
     "output_type": "stream",
     "text": [
      "Número de pobres:\n",
      " 0    2146\n",
      "1    2068\n",
      "Name: pobre, dtype: int64\n",
      "Porcentaje de pobres:\n",
      " 0    50.925486\n",
      "1    49.074514\n",
      "Name: pobre, dtype: float64\n"
     ]
    }
   ],
   "source": [
    "# Variable dependiente: pobre\n",
    "print(\"Número de pobres:\\n\", respondieron_new.pobre.value_counts())\n",
    "print(\"Porcentaje de pobres:\\n\", respondieron_new.pobre.value_counts(normalize=True) * 100)"
   ]
  },
  {
   "cell_type": "code",
   "execution_count": 115,
   "metadata": {},
   "outputs": [
    {
     "name": "stdout",
     "output_type": "stream",
     "text": [
      "Muestra de entrenamiento. Obs: X= 2949 Y= 2949\n",
      "Muestra de prueba. Obs: X= 1265 Y= 1265\n"
     ]
    }
   ],
   "source": [
    "# Dividimos la muestra en train y test\n",
    "respondieron_new_nm = respondieron_new.dropna(axis=1, how='all') #Primero borramos los missings\n",
    "X = respondieron_new_nm.drop(columns=[\"pobre\"]) #Seleccionamos todas las variables excepto \"pobre\"\n",
    "X = X.select_dtypes(include=['float64']) #Solo formato numérico\n",
    "y = respondieron_new_nm[\"pobre\"] # Cambié el nombre\n",
    "\n",
    "# Hay variables que tienen al menos un missing value, lo que no permitirá correr la regresión logística\n",
    "# Solución: Imputar la data usando la media\n",
    "imputer = SimpleImputer(strategy='mean')\n",
    "X = imputer.fit_transform(X)\n",
    "\n",
    "# Ahora si podemos particionar la muestra:\n",
    "X_train, X_test, y_train, y_test = train_test_split(X, y, test_size=0.3, random_state=201)\n",
    "\n",
    "# Verificamos el número de observaciones para cada objeto\n",
    "print(\"Muestra de entrenamiento. Obs:\", \"X=\", len(X_train), \"Y=\", len(y_train))\n",
    "print(\"Muestra de prueba. Obs:\", \"X=\", len(X_test), \"Y=\", len(y_test))\n"
   ]
  },
  {
   "cell_type": "markdown",
   "metadata": {},
   "source": [
    "#### Modelo Logit"
   ]
  },
  {
   "cell_type": "code",
   "execution_count": 116,
   "metadata": {},
   "outputs": [],
   "source": [
    "# Estimamos el modelo\n",
    "# Puse más iteraciones porque no daba...\n",
    "log_reg = LogisticRegression(max_iter=10000).fit(X_train, y_train)\n",
    "y_test_pred_score = log_reg.predict_proba(X_test)[:,1]\n",
    "y_test_pred = log_reg.predict(X_test)"
   ]
  },
  {
   "cell_type": "code",
   "execution_count": 117,
   "metadata": {},
   "outputs": [
    {
     "name": "stdout",
     "output_type": "stream",
     "text": [
      "Matriz de confusión:\n",
      " [[460 172]\n",
      " [260 373]]\n",
      "Accuracy Score:\n",
      " 0.658498023715415\n"
     ]
    }
   ],
   "source": [
    "# Matriz de confusión y accuracy\n",
    "print('Matriz de confusión:\\n', confusion_matrix(y_test, y_test_pred))\n",
    "print('Accuracy Score:\\n', accuracy_score(y_test, y_test_pred))"
   ]
  },
  {
   "cell_type": "code",
   "execution_count": 118,
   "metadata": {},
   "outputs": [
    {
     "name": "stdout",
     "output_type": "stream",
     "text": [
      "AUC: 0.658552802607634824\n",
      "[2 1 0]\n",
      "[0.        0.2721519 1.       ]\n",
      "[0.        0.5892575 1.       ]\n"
     ]
    },
    {
     "data": {
      "image/png": "[encoded data removed]",
      "text/plain": [
       "<Figure size 640x480 with 1 Axes>"
      ]
     },
     "metadata": {},
     "output_type": "display_data"
    }
   ],
   "source": [
    "# Curva ROC y AUC score\n",
    "auc = roc_auc_score(y_test, y_test_pred)\n",
    "print('AUC: %.18f' % auc) \n",
    "\n",
    "fpr, tpr, thresholds = roc_curve(y_test, y_test_pred)\n",
    "np.set_printoptions(suppress = True)\n",
    "print(thresholds)\n",
    "print(fpr)\n",
    "print(tpr)\n",
    "\n",
    "display = RocCurveDisplay(fpr=fpr, tpr=tpr, roc_auc=auc, estimator_name='Reg_log')\n",
    "display.plot()  \n",
    "plt.plot([0, 1], [0, 1], color='red', linestyle='--')\n",
    "plt.show()\n"
   ]
  },
  {
   "cell_type": "markdown",
   "metadata": {},
   "source": [
    "#### KNN"
   ]
  },
  {
   "cell_type": "markdown",
   "metadata": {},
   "source": [
    "#### Análisis de discriminante lineal"
   ]
  }
 ],
 "metadata": {
  "kernelspec": {
   "display_name": "Python 3 (ipykernel)",
   "language": "python",
   "name": "python3"
  },
  "language_info": {
   "codemirror_mode": {
    "name": "ipython",
    "version": 3
   },
   "file_extension": ".py",
   "mimetype": "text/x-python",
   "name": "python",
   "nbconvert_exporter": "python",
   "pygments_lexer": "ipython3",
   "version": "3.9.13"
  }
 },
 "nbformat": 4,
 "nbformat_minor": 4
}
